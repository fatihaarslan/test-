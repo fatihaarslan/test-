{
    "cells": [
        {
            "cell_type": "markdown",
            "metadata": {
                "collapsed": true
            },
            "source": "# My Jupyter Notebook on IBM Watson Studio #"
        },
        {
            "cell_type": "markdown",
            "metadata": {},
            "source": "**Fatiha Nasir**\n\nData Scientist"
        },
        {
            "cell_type": "markdown",
            "metadata": {},
            "source": "*I am interested in datascience because I want to be on the cutting edge of technology.* "
        },
        {
            "cell_type": "markdown",
            "metadata": {},
            "source": "### This code multiplies any two numbers ###"
        },
        {
            "cell_type": "code",
            "execution_count": 2,
            "metadata": {},
            "outputs": [
                {
                    "name": "stdout",
                    "output_type": "stream",
                    "text": "Enter the first number: 5\nEnter the second number: 5\nThe product of given numbers is:  25\n"
                }
            ],
            "source": "num1=int(input(\"Enter the first number: \"));\nnum2=int(input(\"Enter the second number: \"));\nmul=num1*num2;\nprint(\"The product of given numbers is: \",mul);"
        },
        {
            "cell_type": "markdown",
            "metadata": {},
            "source": "1. Hello\n2. Enjoying the course\n3. Did it!\n\n - First item\n - Second item\n - Third item\n\n~~Datascience is the future~~"
        },
        {
            "cell_type": "code",
            "execution_count": null,
            "metadata": {},
            "outputs": [],
            "source": ""
        }
    ],
    "metadata": {
        "kernelspec": {
            "display_name": "Python 3.9",
            "language": "python",
            "name": "python3"
        },
        "language_info": {
            "codemirror_mode": {
                "name": "ipython",
                "version": 3
            },
            "file_extension": ".py",
            "mimetype": "text/x-python",
            "name": "python",
            "nbconvert_exporter": "python",
            "pygments_lexer": "ipython3",
            "version": "3.9.12"
        }
    },
    "nbformat": 4,
    "nbformat_minor": 1
}